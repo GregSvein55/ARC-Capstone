{
 "cells": [
  {
   "cell_type": "code",
   "execution_count": 5,
   "metadata": {},
   "outputs": [],
   "source": [
    "from PIL import Image\n",
    "from pytesseract import pytesseract\n",
    "import pandas as pd"
   ]
  },
  {
   "cell_type": "code",
   "execution_count": 15,
   "metadata": {},
   "outputs": [],
   "source": [
    "pathToTesseract = r\"C:\\Program Files\\Tesseract-OCR\\tesseract.exe\"\n",
    "\n",
    "pathToImage = r\"C:\\Users\\User1\\Desktop\\text scanner tests\\images\\5.png\""
   ]
  },
  {
   "cell_type": "code",
   "execution_count": 16,
   "metadata": {},
   "outputs": [
    {
     "name": "stdout",
     "output_type": "stream",
     "text": [
      "“4 =\n",
      "\n",
      "WR i ed : ' i ti nie Sects TOT iit OF GTiNki nnahic og\n",
      "\n",
      "ART ne | annabis nsum aries.\n",
      "ima narnd ra onl “ : 7 x nal é ning more within this ut\n",
      "ume period Can FeSur GUVETSE CTTeCtS tile dy Fequire medical attention =\n",
      "\n",
      "atION Ge produits\n",
      "\n",
      "sIrables qui\n",
      "\n",
      "MONKEY GLUE y\n",
      "Strain/Variété: Monkey Glue i!\n",
      "Hybrid/Hybride - 3.59\n",
      "THC 10.01 mg/g (Total THC / THC Total 199,79 mg/g)\n",
      "CBD < 0.50 mg/g (Total CBD / CBD Total 0.53 mg/g) \\\n",
      "\n",
      "| ll\n",
      "\n",
      "Package Date / Date d'emballage:\n",
      "\n",
      "i HT\n",
      "\n",
      "Wt! Pa\n",
      "NT uN\n",
      "\n",
      "{01} 0 0694144 00429 3 (13) 220607 (10) 3101724987 6 9414410042\n",
      "\n",
      "\n"
     ]
    }
   ],
   "source": [
    "pytesseract.tesseract_cmd = pathToTesseract\n",
    "\n",
    "img = Image.open(pathToImage)\n",
    "\n",
    "#img.save(r\"C:\\Users\\User1\\Desktop\\text scanner tests\\images\\test5.png\")\n",
    "\n",
    "#img = Image.open(r\"C:\\Users\\User1\\Desktop\\text scanner tests\\images\\test5.png\")\n",
    "\n",
    "#img = img.rotate(270, Image.NEAREST, expand = 1)\n",
    "\n",
    "text = pytesseract.image_to_string(img)\n",
    "\n",
    "print(text)"
   ]
  },
  {
   "cell_type": "code",
   "execution_count": 17,
   "metadata": {},
   "outputs": [
    {
     "name": "stdout",
     "output_type": "stream",
     "text": [
      "Product: MONKEY GLUE\n",
      "Brand: GOOD SUPPLY\n",
      "THC: 22%\n",
      "CBD: 0-1%\n",
      "Strain: Hybrid\n"
     ]
    }
   ],
   "source": [
    "\n",
    "\n",
    "# Read the CSV file into a DataFrame\n",
    "df = pd.read_csv('ARCProductList.csv')\n",
    "\n",
    "# Split the text into a list of words\n",
    "words = text.split()\n",
    "\n",
    "\n",
    "# Iterate over the words with a sliding window\n",
    "for i in range(len(words)):\n",
    "    for j in range(i+1, len(words)+1):\n",
    "        product = \" \".join(words[i:j])\n",
    "        if df[(df['Product'] == product)].empty:\n",
    "            continue\n",
    "        else:\n",
    "            # Get the rows where the 'Product' column is equal to the word\n",
    "            rows = df[(df['Product'] == product)]\n",
    "            for i, row in rows.iterrows():\n",
    "                print(f\"Product: {row['Product']}\\nBrand: {row['Brand']}\\nTHC: {row['THC']}\\nCBD: {row['CBD']}\\nStrain: {row['Type']}\")\n",
    "                \n",
    "                "
   ]
  }
 ],
 "metadata": {
  "kernelspec": {
   "display_name": "Python 3",
   "language": "python",
   "name": "python3"
  },
  "language_info": {
   "codemirror_mode": {
    "name": "ipython",
    "version": 3
   },
   "file_extension": ".py",
   "mimetype": "text/x-python",
   "name": "python",
   "nbconvert_exporter": "python",
   "pygments_lexer": "ipython3",
   "version": "3.10.6"
  },
  "orig_nbformat": 4,
  "vscode": {
   "interpreter": {
    "hash": "4b158de9dee9cdd12df4ca6f07919f74aba3858e0415eb8802c7bdbce4de9a36"
   }
  }
 },
 "nbformat": 4,
 "nbformat_minor": 2
}

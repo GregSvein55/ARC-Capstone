{
 "cells": [
  {
   "cell_type": "code",
   "execution_count": 6,
   "metadata": {},
   "outputs": [],
   "source": [
    "from PIL import Image\n",
    "from pytesseract import pytesseract\n",
    "import pandas as pd"
   ]
  },
  {
   "cell_type": "code",
   "execution_count": 15,
   "metadata": {},
   "outputs": [],
   "source": [
    "pathToTesseract = r\"C:\\Program Files\\Tesseract-OCR\\tesseract.exe\"\n",
    "\n",
    "pathToImage = r\"C:\\Users\\User1\\Desktop\\Arc\\Project Files\\images\\2.JPG\""
   ]
  },
  {
   "cell_type": "code",
   "execution_count": 16,
   "metadata": {},
   "outputs": [
    {
     "name": "stdout",
     "output_type": "stream",
     "text": [
      "(6/Bw p> 1801 Gao | 6/5 b> aso je301) 6/Bw > ago | 6/Sw y> aes\n",
      "\n",
      "(B/Bw ghz 18301 OHL |\n",
      "\n",
      "5/5w ghz DHL 18301) 5/6w ¢ HL | 6/Bw ¢ HL\n",
      "\n",
      "siqeuuBg / s}QeuUueD PeG BSc\n",
      "\n",
      "ON1AGNO 418\n",
      "\n",
      "\n"
     ]
    }
   ],
   "source": [
    "pytesseract.tesseract_cmd = pathToTesseract\n",
    "\n",
    "img = Image.open(pathToImage)\n",
    "\n",
    "text = pytesseract.image_to_string(img)\n",
    "\n",
    "print(text)"
   ]
  },
  {
   "cell_type": "code",
   "execution_count": 17,
   "metadata": {},
   "outputs": [
    {
     "name": "stdout",
     "output_type": "stream",
     "text": [
      "Product: MONKEY GLUE\n",
      "Brand: GOOD SUPPLY\n",
      "THC: 22%\n",
      "CBD: 0-1%\n",
      "Strain: Hybrid\n"
     ]
    }
   ],
   "source": [
    "\n",
    "\n",
    "# Read the CSV file into a DataFrame\n",
    "df = pd.read_csv('ARCProductList.csv')\n",
    "\n",
    "# Split the text into a list of words\n",
    "words = text.split()\n",
    "\n",
    "\n",
    "# Iterate over the words with a sliding window\n",
    "for i in range(len(words)):\n",
    "    for j in range(i+1, len(words)+1):\n",
    "        product = \" \".join(words[i:j])\n",
    "        if df[(df['Product'] == product)].empty:\n",
    "            continue\n",
    "        else:\n",
    "            # Get the rows where the 'Product' column is equal to the word\n",
    "            rows = df[(df['Product'] == product)]\n",
    "            for i, row in rows.iterrows():\n",
    "                print(f\"Product: {row['Product']}\\nBrand: {row['Brand']}\\nTHC: {row['THC']}\\nCBD: {row['CBD']}\\nStrain: {row['Type']}\")\n",
    "                \n",
    "                "
   ]
  }
 ],
 "metadata": {
  "kernelspec": {
   "display_name": "Python 3",
   "language": "python",
   "name": "python3"
  },
  "language_info": {
   "codemirror_mode": {
    "name": "ipython",
    "version": 3
   },
   "file_extension": ".py",
   "mimetype": "text/x-python",
   "name": "python",
   "nbconvert_exporter": "python",
   "pygments_lexer": "ipython3",
   "version": "3.10.6 (tags/v3.10.6:9c7b4bd, Aug  1 2022, 21:53:49) [MSC v.1932 64 bit (AMD64)]"
  },
  "orig_nbformat": 4,
  "vscode": {
   "interpreter": {
    "hash": "4b158de9dee9cdd12df4ca6f07919f74aba3858e0415eb8802c7bdbce4de9a36"
   }
  }
 },
 "nbformat": 4,
 "nbformat_minor": 2
}

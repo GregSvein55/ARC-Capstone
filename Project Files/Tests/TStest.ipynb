{
 "cells": [
  {
   "cell_type": "code",
   "execution_count": 103,
   "metadata": {},
   "outputs": [],
   "source": [
    "from PIL import Image, ImageFilter\n",
    "from pytesseract import pytesseract\n",
    "import pandas as pd"
   ]
  },
  {
   "cell_type": "code",
   "execution_count": 104,
   "metadata": {},
   "outputs": [],
   "source": [
    "pathToTesseract = r\"C:\\Program Files\\Tesseract-OCR\\tesseract.exe\"\n",
    "\n",
    "pathToImage = r\"C:\\Users\\User1\\Desktop\\Arc\\Project Files\\tempDoNotCommit\\GoodSupply_MonkeyButter_front.png\""
   ]
  },
  {
   "cell_type": "code",
   "execution_count": 105,
   "metadata": {},
   "outputs": [
    {
     "name": "stdout",
     "output_type": "stream",
     "text": [
      "WARNING: The effects from eating or drinking cannabis can be long-asting, The effects can Bote 6 «.4:7 novrs\n",
      "following use.\n",
      "MISE EN GARDE : Les effets de la consommation de produits comestible\n",
      "\n",
      "S base de cannabis Peuvent étre de longue\n",
      "durée. Les effets peuvent durer de six 3 douze heures apras la consommation,\n",
      "\n",
      "MONKEY BUTTER\n",
      "\n",
      "Strain/Variété. Monkey Butter\n",
      "Indica - 3.5g\n",
      "\n",
      "THC 3.05 mg/g (Total THC / THC\n",
      "\n",
      "Total 20715 mg/g)\n",
      "CBD < 0.50 mg/g (Total CBD / CBD Total 0.60 moig)\n",
      "\n",
      "Package Dates. sate demballage:\n",
      "2022-AUG-17\n",
      "Lot 3101725728\n",
      "\n",
      "Rev 10\n",
      "\n",
      ": (01) 006\n",
      "\n",
      "\n"
     ]
    }
   ],
   "source": [
    "pytesseract.tesseract_cmd = pathToTesseract\n",
    "\n",
    "# Specify the OCR engine mode and language\n",
    "config = '-l eng'\n",
    "\n",
    "# Load the image and preprocess it\n",
    "img = Image.open(pathToImage)\n",
    "img = img.filter(ImageFilter.SHARPEN)\n",
    "img = img.convert('L')  # convert to grayscale\n",
    "img = img.resize((img.width // 2, img.height // 2))  # resize the image\n",
    "\n",
    "# Perform OCR using Tesseract\n",
    "text = pytesseract.image_to_string(img, config=config)\n",
    "\n",
    "print(text)"
   ]
  },
  {
   "cell_type": "code",
   "execution_count": 114,
   "metadata": {},
   "outputs": [
    {
     "name": "stdout",
     "output_type": "stream",
     "text": [
      "THC: 20.715 %\n",
      "CBD: 0.06 %\n"
     ]
    }
   ],
   "source": [
    "import re\n",
    "\n",
    "# The regular expression pattern to search for a number after 'THC Total' and 'CBD total'\n",
    "patternTHC = r\"(?i)THC\\s+Total\\s*:?\\s*(\\d+(?:\\.\\d+)?)\"\n",
    "patternCBD = r\"(?i)CBD\\s+Total\\s*:?\\s*(\\d+(?:\\.\\d+)?)\"\n",
    "\n",
    "# Find the number in the text using regular expressions\n",
    "matchTHC = re.search(patternTHC, text)\n",
    "matchCBD = re.search(patternCBD, text)\n",
    "\n",
    "# If a number is found, convert it to float, divide by 10, and round to 2 decimal points\n",
    "if matchTHC:\n",
    "    \n",
    "    thc_total = round(float(matchTHC.group(1)) / 10, 2)\n",
    "    \n",
    "    if thc_total > 50 or thc_total < 0:# Check twice as the decimal point may be missing\n",
    "        thc_total /= 10\n",
    "    if thc_total > 50 or thc_total < 0:\n",
    "        thc_total /= 10\n",
    "        \n",
    "    print(\"THC:\", thc_total, \"%\")\n",
    "else:\n",
    "    print(\"THC total not found\")\n",
    "    \n",
    "if matchCBD:\n",
    "    cbd_total = round(float(matchCBD.group(1)) / 10, 2)\n",
    "    \n",
    "    if cbd_total > 50 or thc_total < 0:# Check twice as the decimal point may be missing\n",
    "        cbd_total /= 10\n",
    "    if cbd_total > 50 or thc_total < 0:\n",
    "        cbd_total /= 10\n",
    "        \n",
    "    print(\"CBD:\", cbd_total, \"%\")\n",
    "else:\n",
    "    print(\"CBD total not found\")"
   ]
  },
  {
   "cell_type": "code",
   "execution_count": 115,
   "metadata": {},
   "outputs": [
    {
     "name": "stdout",
     "output_type": "stream",
     "text": [
      "Product: MONKEY BUTTER\n",
      "Brand: GOOD SUPPLY\n",
      "THC: 23.00%\n",
      "CBD: <1%\n",
      "Strain: Indica\n"
     ]
    }
   ],
   "source": [
    "# RUNS IN 0.1 SECONDS INSTEAD OF 4-6 SECONDS\n",
    "\n",
    "# Read the CSV file into a DataFrame\n",
    "df = pd.read_csv(r'C:\\Users\\User1\\Desktop\\Arc\\Project Files\\Flask\\ARCProductList.csv')\n",
    "\n",
    "# Split the text into a list of words\n",
    "words = text.split()\n",
    "\n",
    "# Create a dictionary that maps products to their rows in the DataFrame\n",
    "product_to_rows = {}\n",
    "for i, row in df.iterrows():\n",
    "    product = row['Product']\n",
    "    if product not in product_to_rows:\n",
    "        product_to_rows[product] = []\n",
    "    product_to_rows[product].append(row)\n",
    "\n",
    "# Iterate over the words with a sliding window and look up the product in the dictionary\n",
    "for i in range(len(words)):\n",
    "    for j in range(i+1, len(words)+1):\n",
    "        product = \" \".join(words[i:j])\n",
    "        if product not in product_to_rows:\n",
    "            continue\n",
    "        rows = product_to_rows[product]\n",
    "        for row in rows:\n",
    "            print(f\"Product: {row['Product']}\\nBrand: {row['Brand']}\\nTHC: {row['THC']}\\nCBD: {row['CBD']}\\nStrain: {row['Type']}\")\n",
    "\n",
    "                "
   ]
  }
 ],
 "metadata": {
  "kernelspec": {
   "display_name": "Python 3",
   "language": "python",
   "name": "python3"
  },
  "language_info": {
   "codemirror_mode": {
    "name": "ipython",
    "version": 3
   },
   "file_extension": ".py",
   "mimetype": "text/x-python",
   "name": "python",
   "nbconvert_exporter": "python",
   "pygments_lexer": "ipython3",
   "version": "3.10.6"
  },
  "orig_nbformat": 4,
  "vscode": {
   "interpreter": {
    "hash": "4b158de9dee9cdd12df4ca6f07919f74aba3858e0415eb8802c7bdbce4de9a36"
   }
  }
 },
 "nbformat": 4,
 "nbformat_minor": 2
}

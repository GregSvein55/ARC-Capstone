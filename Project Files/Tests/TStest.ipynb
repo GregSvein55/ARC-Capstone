{
 "cells": [
  {
   "cell_type": "code",
   "execution_count": 1,
   "metadata": {},
   "outputs": [],
   "source": [
    "from PIL import Image\n",
    "from pytesseract import pytesseract\n",
    "import pandas as pd"
   ]
  },
  {
   "cell_type": "code",
   "execution_count": 9,
   "metadata": {},
   "outputs": [],
   "source": [
    "pathToTesseract = r\"C:\\Program Files\\Tesseract-OCR\\tesseract.exe\"\n",
    "\n",
    "pathToImage = r\"C:\\Users\\User1\\Desktop\\Arc\\Project Files\\Tests\\test2.png\""
   ]
  },
  {
   "cell_type": "code",
   "execution_count": 10,
   "metadata": {},
   "outputs": [
    {
     "name": "stdout",
     "output_type": "stream",
     "text": [
      "Tumc\n",
      "\n",
      "Is FAN FalieA derweinnce and tenn’...\n",
      "LOUSE COWSINESS and impai youl\n",
      "\n",
      "87 Has Ge Mia!\n",
      "\n",
      "a Cava ile\n",
      "\n",
      "ALIEN DAWG\n",
      "\n",
      "Strain/Variété: Alien Dawg\n",
      "Indica\n",
      "Net weight 3.5 g / Poids net de 3,5 g\n",
      "\n",
      "THC 2.56 mg/g (Total THC / THC Total 206.31 mg/g)\n",
      "CBD < 0.10 mg/g (Total CBD / CBD Total 0.52 mg/g)\n",
      "\n",
      "ee\n",
      "\n",
      "2022-APR-14\n",
      "Lot 3101724481\n",
      "\n",
      "gi\" 26966'0044 7\n",
      "\n",
      "tI\n",
      "til HN\n",
      "NL\n",
      "\n",
      "\n"
     ]
    }
   ],
   "source": [
    "pytesseract.tesseract_cmd = pathToTesseract\n",
    "\n",
    "img = Image.open(pathToImage)\n",
    "\n",
    "text = pytesseract.image_to_string(img)\n",
    "\n",
    "print(text)"
   ]
  },
  {
   "cell_type": "code",
   "execution_count": 11,
   "metadata": {},
   "outputs": [
    {
     "name": "stdout",
     "output_type": "stream",
     "text": [
      "Product: ALIEN DAWG\n",
      "Brand: CANACA\n",
      "THC: 18.00%\n",
      "CBD: <1%\n",
      "Strain: Hybrid\n"
     ]
    }
   ],
   "source": [
    "\n",
    "\n",
    "# Read the CSV file into a DataFrame\n",
    "df = pd.read_csv(r'C:\\Users\\User1\\Desktop\\Arc\\Project Files\\Flask\\ARCProductList.csv')\n",
    "\n",
    "# Split the text into a list of words\n",
    "words = text.split()\n",
    "\n",
    "\n",
    "# Iterate over the words with a sliding window\n",
    "for i in range(len(words)):\n",
    "    for j in range(i+1, len(words)+1):\n",
    "        product = \" \".join(words[i:j])\n",
    "        if df[(df['Product'] == product)].empty:\n",
    "            continue\n",
    "        else:\n",
    "            # Get the rows where the 'Product' column is equal to the word\n",
    "            rows = df[(df['Product'] == product)]\n",
    "            for i, row in rows.iterrows():\n",
    "                print(f\"Product: {row['Product']}\\nBrand: {row['Brand']}\\nTHC: {row['THC']}\\nCBD: {row['CBD']}\\nStrain: {row['Type']}\")\n",
    "                \n",
    "                "
   ]
  }
 ],
 "metadata": {
  "kernelspec": {
   "display_name": "Python 3",
   "language": "python",
   "name": "python3"
  },
  "language_info": {
   "codemirror_mode": {
    "name": "ipython",
    "version": 3
   },
   "file_extension": ".py",
   "mimetype": "text/x-python",
   "name": "python",
   "nbconvert_exporter": "python",
   "pygments_lexer": "ipython3",
   "version": "3.10.6"
  },
  "orig_nbformat": 4,
  "vscode": {
   "interpreter": {
    "hash": "4b158de9dee9cdd12df4ca6f07919f74aba3858e0415eb8802c7bdbce4de9a36"
   }
  }
 },
 "nbformat": 4,
 "nbformat_minor": 2
}
